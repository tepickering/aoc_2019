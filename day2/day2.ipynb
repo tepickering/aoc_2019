{
 "cells": [
  {
   "cell_type": "code",
   "execution_count": 1,
   "metadata": {},
   "outputs": [],
   "source": [
    "import numpy as np"
   ]
  },
  {
   "cell_type": "code",
   "execution_count": 15,
   "metadata": {},
   "outputs": [],
   "source": [
    "test = \"1,9,10,3,2,3,11,0,99,30,40,50\""
   ]
  },
  {
   "cell_type": "code",
   "execution_count": 21,
   "metadata": {},
   "outputs": [
    {
     "data": {
      "text/plain": [
       "[1, 9, 10, 3, 2, 3, 11, 0, 99, 30, 40, 50]"
      ]
     },
     "execution_count": 21,
     "metadata": {},
     "output_type": "execute_result"
    }
   ],
   "source": [
    "arr = [int(n) for n in test.split(',')]\n",
    "arr"
   ]
  },
  {
   "cell_type": "code",
   "execution_count": 37,
   "metadata": {},
   "outputs": [],
   "source": [
    "def intcode(a):\n",
    "    step = 0\n",
    "    stepsize = 4\n",
    "    while True:\n",
    "        op = a[step]\n",
    "        if op == 99:\n",
    "            return a\n",
    "        if op == 1:\n",
    "            i1 = a[a[step+1]]\n",
    "            i2 = a[a[step+2]]\n",
    "            pos = a[step+3]\n",
    "            a[pos] = i1 + i2\n",
    "            step += stepsize\n",
    "        elif op == 2:\n",
    "            i1 = a[a[step+1]]\n",
    "            i2 = a[a[step+2]]\n",
    "            pos = a[step+3]\n",
    "            a[pos] = i1 * i2\n",
    "            step += stepsize\n",
    "        else:\n",
    "            print(\"barf!\")\n",
    "            break"
   ]
  },
  {
   "cell_type": "code",
   "execution_count": 29,
   "metadata": {},
   "outputs": [
    {
     "data": {
      "text/plain": [
       "[3500, 9, 10, 70, 2, 3, 11, 0, 99, 30, 40, 50]"
      ]
     },
     "execution_count": 29,
     "metadata": {},
     "output_type": "execute_result"
    }
   ],
   "source": [
    "intcode(test)"
   ]
  },
  {
   "cell_type": "code",
   "execution_count": 32,
   "metadata": {},
   "outputs": [
    {
     "data": {
      "text/plain": [
       "[30, 1, 1, 4, 2, 5, 6, 0, 99]"
      ]
     },
     "execution_count": 32,
     "metadata": {},
     "output_type": "execute_result"
    }
   ],
   "source": [
    "intcode(\"1,1,1,4,99,5,6,0,99\")"
   ]
  },
  {
   "cell_type": "code",
   "execution_count": 41,
   "metadata": {},
   "outputs": [],
   "source": [
    "with open(\"input.txt\") as f:\n",
    "    code = f.readline()"
   ]
  },
  {
   "cell_type": "code",
   "execution_count": 39,
   "metadata": {},
   "outputs": [
    {
     "data": {
      "text/plain": [
       "3058646"
      ]
     },
     "execution_count": 39,
     "metadata": {},
     "output_type": "execute_result"
    }
   ],
   "source": [
    "code_a = [int(n) for n in code.split(',')]\n",
    "code_a[1] = 12\n",
    "code_a[2] = 2\n",
    "intcode(code_a)[0]"
   ]
  },
  {
   "cell_type": "code",
   "execution_count": 49,
   "metadata": {},
   "outputs": [
    {
     "name": "stdout",
     "output_type": "stream",
     "text": [
      "8976\n"
     ]
    }
   ],
   "source": [
    "noun = 0\n",
    "verb = 0\n",
    "while noun < 100:\n",
    "    while verb < 100:\n",
    "        code_a = [int(n) for n in code.split(',')]\n",
    "        code_a[1] = noun\n",
    "        code_a[2] = verb\n",
    "        val = intcode(code_a)[0]\n",
    "        if val == 19690720:\n",
    "            print(100 * noun + verb)\n",
    "            break\n",
    "        verb += 1\n",
    "    noun += 1\n",
    "    verb = 0"
   ]
  },
  {
   "cell_type": "code",
   "execution_count": null,
   "metadata": {},
   "outputs": [],
   "source": []
  }
 ],
 "metadata": {
  "kernelspec": {
   "display_name": "Python 3",
   "language": "python",
   "name": "python3"
  },
  "language_info": {
   "codemirror_mode": {
    "name": "ipython",
    "version": 3
   },
   "file_extension": ".py",
   "mimetype": "text/x-python",
   "name": "python",
   "nbconvert_exporter": "python",
   "pygments_lexer": "ipython3",
   "version": "3.7.5"
  }
 },
 "nbformat": 4,
 "nbformat_minor": 4
}
